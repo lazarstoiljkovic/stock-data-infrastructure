{
 "cells": [
  {
   "cell_type": "code",
   "execution_count": null,
   "id": "f53758fa-8f5e-4bdb-83c1-1acee8468e75",
   "metadata": {},
   "outputs": [],
   "source": [
    "import pandas as pd\n",
    "import matplotlib.pyplot as plt\n",
    "\n",
    "# Hardkodovani podaci za predikcije\n",
    "data = {\n",
    "    'Date': ['2025-01-01', '2025-01-02', '2025-01-03', '2025-01-04', '2025-01-05'],\n",
    "    'Prediction': [100, 105, 110, 108, 115]\n",
    "}\n",
    "\n",
    "# Kreiranje DataFrame-a\n",
    "predictions_df = pd.DataFrame(data)\n",
    "\n",
    "# Prikaz podataka\n",
    "print(predictions_df)\n",
    "\n",
    "# Vizualizacija predikcija\n",
    "plt.figure(figsize=(10, 6))\n",
    "plt.plot(predictions_df['Date'], predictions_df['Prediction'], marker='o', linestyle='-', color='b')\n",
    "plt.title('Predictions Over Time')\n",
    "plt.xlabel('Date')\n",
    "plt.ylabel('Prediction Value')\n",
    "plt.grid()\n",
    "plt.xticks(rotation=45)  # Rotiraj datume za bolju čitljivost\n",
    "plt.show()"
   ]
  },
  {
   "cell_type": "code",
   "execution_count": null,
   "id": "81c6d312-6aa8-4bc5-a985-a50e4fd0ff58",
   "metadata": {},
   "outputs": [],
   "source": []
  }
 ],
 "metadata": {
  "kernelspec": {
   "display_name": "conda_python3",
   "language": "python",
   "name": "conda_python3"
  },
  "language_info": {
   "codemirror_mode": {
    "name": "ipython",
    "version": 3
   },
   "file_extension": ".py",
   "mimetype": "text/x-python",
   "name": "python",
   "nbconvert_exporter": "python",
   "pygments_lexer": "ipython3",
   "version": "3.10.16"
  }
 },
 "nbformat": 4,
 "nbformat_minor": 5
}
